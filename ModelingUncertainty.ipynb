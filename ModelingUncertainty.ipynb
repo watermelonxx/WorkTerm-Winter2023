{
 "cells": [
  {
   "cell_type": "markdown",
   "id": "9a26310b-9085-4ead-b38a-821849c28ea3",
   "metadata": {},
   "source": [
    "## Modeling Uncertainty in Random Forests and Neural Networks"
   ]
  },
  {
   "cell_type": "markdown",
   "id": "a4821d01-8908-49a9-806e-a705b23615ce",
   "metadata": {},
   "source": [
    "This notebook produces scikit-garden and TFP predicitons for LAI and fAPAR for the NAIVE database for each biome and, using the validation datasets, compares the predicted confidence intervals to:\n",
    "1. Epistemic error (Cross validation error)\n",
    "2. Aleatoric error (The standard deviation of LAI and fAPAR given in the algorithm)"
   ]
  },
  {
   "cell_type": "markdown",
   "id": "a5469fc7-4521-4ba1-b001-ee9da3e140cc",
   "metadata": {
    "tags": []
   },
   "source": [
    "## Inital Setup"
   ]
  },
  {
   "cell_type": "code",
   "execution_count": 1,
   "id": "e941f7bf-e581-4cd7-9404-a9307c541f83",
   "metadata": {
    "tags": []
   },
   "outputs": [],
   "source": [
    "# Suppress warnings\n",
    "import warnings\n",
    "warnings.filterwarnings('ignore')"
   ]
  },
  {
   "cell_type": "code",
   "execution_count": 2,
   "id": "6eabf0ff-ac80-4ffe-9028-97aa9318d2c8",
   "metadata": {
    "tags": []
   },
   "outputs": [],
   "source": [
    "# Import modules\n",
    "import numpy as np\n",
    "import pandas as pd\n",
    "import pickle\n",
    "import seaborn as sns\n",
    "from matplotlib import pyplot as plt\n",
    "import sklearn\n",
    "from sklearn.ensemble import RandomForestRegressor\n",
    "from sklearn import metrics"
   ]
  },
  {
   "cell_type": "code",
   "execution_count": 3,
   "id": "bb228b5b-8767-4812-84c2-11af85e9f3aa",
   "metadata": {
    "tags": []
   },
   "outputs": [],
   "source": [
    "# List of biome numbers\n",
    "biomes = [1,2,3,4,5,6,7,8]"
   ]
  },
  {
   "cell_type": "code",
   "execution_count": 4,
   "id": "0a9c018b-abf3-426b-9575-81930136ad44",
   "metadata": {
    "tags": []
   },
   "outputs": [],
   "source": [
    "# Read in dataset\n",
    "calbiomeDictLAI = pd.read_pickle('C:/Users/casli/cassidy/data/py37/calbiomeDictLAI.pkl')\n",
    "valbiomeDictLAI = pd.read_pickle('C:/Users/casli/cassidy/data/py37/valbiomeDictLAI.pkl')\n",
    "# https://drive.google.com/drive/folders/17pL6zsZqGIPmJt5ChS_wxqVuZHdZa4Lg?usp=sharing"
   ]
  },
  {
   "cell_type": "code",
   "execution_count": 175,
   "id": "199a498f-9193-48e0-9c25-f1f2eaf137e9",
   "metadata": {
    "tags": []
   },
   "outputs": [],
   "source": [
    "# List of regressors\n",
    "regressors = ['red','NIR','cosSZA','cosVZA','cosSA']\n",
    "# Response\n",
    "response = 'LAI'\n",
    "\n",
    "# Subsampling calibration and validation data to create training and testing datasets for each biome\n",
    "for i in biomes:\n",
    "    dfcal = calbiomeDictLAI[i]['DF'].sample(10000)\n",
    "    dfval = valbiomeDictLAI[i]['DF'].sample(1000)\n",
    "    \n",
    "    # if calbiomeDictLAI[i]['DF'].shape[0] >= 100000:\n",
    "    #     dfcal = calbiomeDictLAI[i]['DF'].sample(100000)\n",
    "\n",
    "    calbiomeDictLAI[i]['X_train'] = dfcal[regressors]\n",
    "    calbiomeDictLAI[i]['y_train'] = dfcal[response]\n",
    "\n",
    "    valbiomeDictLAI[i]['X_test'] = dfval[regressors]\n",
    "    valbiomeDictLAI[i]['y_test'] = dfval[response]"
   ]
  },
  {
   "cell_type": "markdown",
   "id": "cca7c1f6-bc9e-49c0-a5ca-b093c038da44",
   "metadata": {
    "jp-MarkdownHeadingCollapsed": true,
    "tags": []
   },
   "source": [
    "## Random Forest"
   ]
  },
  {
   "cell_type": "markdown",
   "id": "27e22d05-c7b1-4a53-8920-6b03efb8dad7",
   "metadata": {
    "jp-MarkdownHeadingCollapsed": true,
    "tags": []
   },
   "source": [
    "### Random Forest Regression"
   ]
  },
  {
   "cell_type": "code",
   "execution_count": null,
   "id": "bfd6541e-a021-4b96-99bb-41f2d30c397a",
   "metadata": {
    "tags": []
   },
   "outputs": [],
   "source": [
    "# Creating and fitting a Random Forest Regressor for each biome type (100 trees per forest)\n",
    "for i in biomes:\n",
    "    valbiomeDictLAI[i]['rf'] = RandomForestRegressor(n_estimators=100,min_samples_leaf=10,max_features=5,bootstrap=True,random_state=0,verbose=0,n_jobs=-1,max_leaf_nodes=10000)\n",
    "    valbiomeDictLAI[i]['rf'] = valbiomeDictLAI[i]['rf'].fit(calbiomeDictLAI[i]['X_train'], calbiomeDictLAI[i]['y_train'])"
   ]
  },
  {
   "cell_type": "code",
   "execution_count": null,
   "id": "26aaee6b-e42f-4817-9584-38419315893e",
   "metadata": {
    "tags": []
   },
   "outputs": [],
   "source": [
    "# Plotting the Quantile Regression Forest with error bars\n",
    "axes = []\n",
    "for i in biomes:\n",
    "    valbiomeDictLAI[i]['DF']['y_rf'] = valbiomeDictLAI[i]['rf'].predict(valbiomeDictLAI[i]['X_test'])\n",
    "    axes.append(plt.scatter(valbiomeDictLAI[i]['y_test'], valbiomeDictLAI[i]['DF']['y_rf'], s=8, alpha=0.5, edgecolors='none', label=str(i)))\n",
    "plt.plot([0, 70], [0, 70], 'k--')\n",
    "plt.xlabel(\"Reference LAI\")\n",
    "plt.ylabel(\"Predicted LAI\")\n",
    "plt.title('Random Forest')\n",
    "plt.xlim([0, 70])\n",
    "# plt.ylim([-50, 120])\n",
    "plt.legend(handles=axes, loc='center left', bbox_to_anchor=(1, 0.5), title='Biome')\n",
    "plt.show()"
   ]
  },
  {
   "cell_type": "markdown",
   "id": "b2ad0aa6-25b9-4cc4-858d-35b0dbed4eb0",
   "metadata": {
    "jp-MarkdownHeadingCollapsed": true,
    "tags": []
   },
   "source": [
    "### Quantile Regression"
   ]
  },
  {
   "cell_type": "code",
   "execution_count": null,
   "id": "e8434d4f-7b77-4d83-83b8-86e6c3fcd81b",
   "metadata": {
    "tags": []
   },
   "outputs": [],
   "source": [
    "%%html\n",
    "<style>\n",
    "table {float:left}\n",
    "</style>"
   ]
  },
  {
   "cell_type": "markdown",
   "id": "5dd46d58-1dde-47b5-a9b5-c2f92b1d1054",
   "metadata": {
    "tags": []
   },
   "source": [
    "To use Scikit-Garden:\n",
    "\n",
    "| Package       | Version          | Notes                    |\n",
    "|:--------------|:-----------------|:-------------------------|\n",
    "| python        | 3.7              |                          |\n",
    "| numpy         | 1.21  (default)  |                          |\n",
    "| matplotlib    | 3.5   (default)  |                          |\n",
    "| pandas        | 1.2   (default)  |                          |\n",
    "| scikit-learn  | 0.22  (default)  |                          |\n",
    "| scikit-garden | 0.1.3 (default)  | install with conda-forge |\n",
    "| jupyterlab    | 3.6   (default)  | install with pip         |"
   ]
  },
  {
   "cell_type": "code",
   "execution_count": null,
   "id": "1ec8fab7-08ca-4d77-8495-6476acca3df7",
   "metadata": {
    "tags": []
   },
   "outputs": [],
   "source": [
    "# Import scikit-garden module\n",
    "from skgarden import RandomForestQuantileRegressor"
   ]
  },
  {
   "cell_type": "code",
   "execution_count": null,
   "id": "d2fedd5c-f1c3-46cb-af19-f78604f7a12d",
   "metadata": {
    "tags": []
   },
   "outputs": [],
   "source": [
    "# Creating a Random Forest Quantile Regressor for each biome type (100 trees per forest)\n",
    "for i in biomes:\n",
    "    valbiomeDictLAI[i]['rfqr'] = RandomForestQuantileRegressor(n_estimators=100,min_samples_leaf=10,max_features=5,bootstrap=True,random_state=0,verbose=0,n_jobs=-1,max_leaf_nodes=10000)"
   ]
  },
  {
   "cell_type": "code",
   "execution_count": null,
   "id": "85c2538b-3e5f-4295-8a1e-0dbb09124289",
   "metadata": {
    "tags": []
   },
   "outputs": [],
   "source": [
    "print(valbiomeDictLAI[1]['rfqr'])"
   ]
  },
  {
   "cell_type": "code",
   "execution_count": null,
   "id": "9390f07a-5a72-4d49-9e04-9f08d0783b0a",
   "metadata": {
    "tags": []
   },
   "outputs": [],
   "source": [
    "# Fitting a Random Forest Quantile Regressor for each biome type\n",
    "for i in biomes:\n",
    "    valbiomeDictLAI[i]['rfqr'].set_params(max_features=calbiomeDictLAI[i]['X_train'].shape[1] // 3)\n",
    "    valbiomeDictLAI[i]['rfqr'] = valbiomeDictLAI[i]['rfqr'].fit(calbiomeDictLAI[i]['X_train'], calbiomeDictLAI[i]['y_train'])"
   ]
  },
  {
   "cell_type": "code",
   "execution_count": null,
   "id": "b079673b-c3e7-4ab6-8e92-00b48167fb5e",
   "metadata": {
    "tags": []
   },
   "outputs": [],
   "source": [
    "# Predicting a Random Forest Quantile Regressor for each biome type with 95% prediction confidence interval\n",
    "for i in biomes:\n",
    "    valbiomeDictLAI[i]['DF']['upper'] = valbiomeDictLAI[i]['rfqr'].predict(valbiomeDictLAI[i]['X_test'], quantile=98.5)\n",
    "    valbiomeDictLAI[i]['DF']['lower'] = valbiomeDictLAI[i]['rfqr'].predict(valbiomeDictLAI[i]['X_test'], quantile=2.5)\n",
    "    valbiomeDictLAI[i]['DF']['mid'] = valbiomeDictLAI[i]['rfqr'].predict(valbiomeDictLAI[i]['X_test'], quantile=50)"
   ]
  },
  {
   "cell_type": "code",
   "execution_count": null,
   "id": "73add349-3cc7-40a0-aec5-32bbd3bc88b6",
   "metadata": {
    "tags": []
   },
   "outputs": [],
   "source": [
    "# Plotting the Quantile Regression Forest with error bars\n",
    "axes = []\n",
    "for i in biomes:\n",
    "    # plt.scatter(valbiomeDictLAI[i]['y_test'], valbiomeDictLAI[i]['DF']['upper'], alpha=0.5, marker='_', s=10, lw=1, edgecolors='none')\n",
    "    # plt.scatter(valbiomeDictLAI[i]['y_test'], valbiomeDictLAI[i]['DF']['lower'], alpha=0.5, marker='_', s=10, lw=1, edgecolors='none')\n",
    "    axes.append(plt.scatter(valbiomeDictLAI[i]['y_test'], valbiomeDictLAI[i]['DF']['mid'], s=8, alpha=0.5, edgecolors='none', label=str(i)))\n",
    "plt.plot([0, 70], [0, 70], 'k--')\n",
    "plt.xlabel(\"Reference LAI\")\n",
    "plt.ylabel(\"Predicted LAI\")\n",
    "plt.title('Quantile Regression Forest')\n",
    "plt.xlim([0, 70])\n",
    "# plt.ylim([-50, 120])\n",
    "plt.legend(handles=axes, loc='center left', bbox_to_anchor=(1, 0.5))\n",
    "plt.show()"
   ]
  },
  {
   "cell_type": "markdown",
   "id": "3ba26597-f988-4edc-9dbc-950bb20c8d32",
   "metadata": {
    "jp-MarkdownHeadingCollapsed": true,
    "tags": []
   },
   "source": [
    "### Comparing Random Forest and Quantile Forest"
   ]
  },
  {
   "cell_type": "code",
   "execution_count": null,
   "id": "0023d59e-9443-4985-bd54-0f045dfe0b01",
   "metadata": {
    "tags": []
   },
   "outputs": [],
   "source": [
    "axes=[]\n",
    "for i in biomes:\n",
    "    axes.append(plt.scatter(valbiomeDictLAI[i]['DF']['y_rf'], valbiomeDictLAI[i]['DF']['mid'], s=8, alpha=0.5, edgecolors='none', label=str(i)))\n",
    "    \n",
    "plt.plot([0, 70], [0, 70], 'k--')\n",
    "plt.xlabel(\"Random Forest\")\n",
    "plt.ylabel(\"Quantile Forest\")\n",
    "# plt.title('Random Forest')\n",
    "plt.xlim([0, 70])\n",
    "plt.ylim([0, 70])\n",
    "plt.legend(handles=axes, loc='center left', bbox_to_anchor=(1, 0.5), title='Biome')\n",
    "plt.show()"
   ]
  },
  {
   "cell_type": "markdown",
   "id": "1615241b-3fd2-4526-a716-2e98f1cb1db0",
   "metadata": {
    "tags": []
   },
   "source": [
    "## Neural Network"
   ]
  },
  {
   "cell_type": "markdown",
   "id": "5ad8056f-748b-4acf-82fe-7781f980bae6",
   "metadata": {},
   "source": [
    "### Dataframe Structure\n",
    "`valbiomeDictLAI[biome#]` is a dictionary that will hold another dictionary with naming convention `[type of neural network]_[#neurons]_..._[output_shape]`.\n",
    "\n",
    "As an example, `nn_80_25_1` is a regular neural network with 2 hidden layers, 80 neurons in the first and 25 in the second, with output shape 1.\n",
    "\n",
    "Another example would be `pnn_8_1`, which is a probabilistic neural network with 1 hidden layer with 8 neurons and output shape 1.\n",
    "\n",
    "Each of these dictionaries will hold information about the model, the history, the number of parameters, etc."
   ]
  },
  {
   "cell_type": "markdown",
   "id": "332f3349-38e5-466c-9108-d84f1621a0cd",
   "metadata": {
    "jp-MarkdownHeadingCollapsed": true,
    "tags": []
   },
   "source": [
    "### TensorFlow"
   ]
  },
  {
   "cell_type": "code",
   "execution_count": 5,
   "id": "79b31393-f1ca-4dbe-abd2-a215db946df9",
   "metadata": {
    "tags": []
   },
   "outputs": [],
   "source": [
    "import tensorflow as tf\n",
    "from tensorflow import keras\n",
    "from tensorflow.keras import layers\n",
    "\n",
    "import tensorflow_probability as tfp\n",
    "tfd = tfp.distributions\n",
    "tfpl = tfp.layers"
   ]
  },
  {
   "cell_type": "code",
   "execution_count": 169,
   "id": "286ebc02-a415-49c2-be60-760f574f0796",
   "metadata": {
    "tags": []
   },
   "outputs": [
    {
     "name": "stdout",
     "output_type": "stream",
     "text": [
      "Model: \"sequential_32\"\n",
      "_________________________________________________________________\n",
      " Layer (type)                Output Shape              Param #   \n",
      "=================================================================\n",
      " normalization_34 (Normaliza  (None, 5)                3         \n",
      " tion)                                                           \n",
      "                                                                 \n",
      " dense_28 (Dense)            (None, 80)                480       \n",
      "                                                                 \n",
      " dense_29 (Dense)            (None, 1)                 81        \n",
      "                                                                 \n",
      "=================================================================\n",
      "Total params: 564\n",
      "Trainable params: 561\n",
      "Non-trainable params: 3\n",
      "_________________________________________________________________\n"
     ]
    }
   ],
   "source": [
    "normalizer = layers.Normalization(input_shape=[5,], axis=None)\n",
    "normalizer.adapt(np.array(calbiomeDictLAI[7]['X_train']))\n",
    "\n",
    "name = 'nn_80_1'\n",
    "biome = 7\n",
    "\n",
    "valbiomeDictLAI[biome][name] = dict()\n",
    "\n",
    "valbiomeDictLAI[biome][name]['model'] = tf.keras.Sequential([\n",
    "    normalizer,\n",
    "    layers.Dense(80, activation='relu'),\n",
    "    # layers.Dense(25, activation='relu'),\n",
    "    layers.Dense(1)])\n",
    "\n",
    "valbiomeDictLAI[biome][name]['model'].compile(loss='mse', optimizer=tf.keras.optimizers.Adam(learning_rate=0.01), metrics=[tf.keras.metrics.RootMeanSquaredError()])\n",
    "valbiomeDictLAI[biome][name]['model'].summary()"
   ]
  },
  {
   "cell_type": "code",
   "execution_count": 170,
   "id": "641b4286-45f5-4ee6-887d-9246001090ec",
   "metadata": {
    "tags": []
   },
   "outputs": [
    {
     "name": "stdout",
     "output_type": "stream",
     "text": [
      "Epoch 1/50\n",
      "313/313 [==============================] - 1s 2ms/step - loss: 235.6096 - root_mean_squared_error: 15.3496\n",
      "Epoch 2/50\n",
      "313/313 [==============================] - 1s 2ms/step - loss: 148.6105 - root_mean_squared_error: 12.1906\n",
      "Epoch 3/50\n",
      "313/313 [==============================] - 1s 2ms/step - loss: 122.8888 - root_mean_squared_error: 11.0855\n",
      "Epoch 4/50\n",
      "313/313 [==============================] - 1s 2ms/step - loss: 109.8112 - root_mean_squared_error: 10.4791\n",
      "Epoch 5/50\n",
      "313/313 [==============================] - 1s 2ms/step - loss: 106.2631 - root_mean_squared_error: 10.3084\n",
      "Epoch 6/50\n",
      "313/313 [==============================] - 1s 2ms/step - loss: 104.2305 - root_mean_squared_error: 10.2093\n",
      "Epoch 7/50\n",
      "313/313 [==============================] - 1s 2ms/step - loss: 102.3076 - root_mean_squared_error: 10.1147\n",
      "Epoch 8/50\n",
      "313/313 [==============================] - 1s 2ms/step - loss: 100.5514 - root_mean_squared_error: 10.0275\n",
      "Epoch 9/50\n",
      "313/313 [==============================] - 1s 2ms/step - loss: 99.3726 - root_mean_squared_error: 9.9686\n",
      "Epoch 10/50\n",
      "313/313 [==============================] - 1s 3ms/step - loss: 99.0926 - root_mean_squared_error: 9.9545\n",
      "Epoch 11/50\n",
      "313/313 [==============================] - 1s 2ms/step - loss: 96.7184 - root_mean_squared_error: 9.8346\n",
      "Epoch 12/50\n",
      "313/313 [==============================] - 1s 4ms/step - loss: 95.9757 - root_mean_squared_error: 9.7967\n",
      "Epoch 13/50\n",
      "313/313 [==============================] - 1s 3ms/step - loss: 95.4323 - root_mean_squared_error: 9.7689\n",
      "Epoch 14/50\n",
      "313/313 [==============================] - 1s 3ms/step - loss: 95.6917 - root_mean_squared_error: 9.7822\n",
      "Epoch 15/50\n",
      "313/313 [==============================] - 1s 3ms/step - loss: 94.7019 - root_mean_squared_error: 9.7315\n",
      "Epoch 16/50\n",
      "313/313 [==============================] - 1s 3ms/step - loss: 95.1984 - root_mean_squared_error: 9.7570\n",
      "Epoch 17/50\n",
      "313/313 [==============================] - 1s 2ms/step - loss: 95.5826 - root_mean_squared_error: 9.7766\n",
      "Epoch 18/50\n",
      "313/313 [==============================] - 1s 2ms/step - loss: 94.9554 - root_mean_squared_error: 9.7445\n",
      "Epoch 19/50\n",
      "313/313 [==============================] - 1s 2ms/step - loss: 94.1629 - root_mean_squared_error: 9.7038\n",
      "Epoch 20/50\n",
      "313/313 [==============================] - 1s 2ms/step - loss: 93.9978 - root_mean_squared_error: 9.6952\n",
      "Epoch 21/50\n",
      "313/313 [==============================] - 1s 2ms/step - loss: 94.8657 - root_mean_squared_error: 9.7399\n",
      "Epoch 22/50\n",
      "313/313 [==============================] - 1s 2ms/step - loss: 94.2276 - root_mean_squared_error: 9.7071\n",
      "Epoch 23/50\n",
      "313/313 [==============================] - 1s 2ms/step - loss: 94.1663 - root_mean_squared_error: 9.7039\n",
      "Epoch 24/50\n",
      "313/313 [==============================] - 1s 3ms/step - loss: 94.3726 - root_mean_squared_error: 9.7146\n",
      "Epoch 25/50\n",
      "313/313 [==============================] - 1s 4ms/step - loss: 93.6015 - root_mean_squared_error: 9.6748\n",
      "Epoch 26/50\n",
      "313/313 [==============================] - 1s 2ms/step - loss: 94.8763 - root_mean_squared_error: 9.7404\n",
      "Epoch 27/50\n",
      "313/313 [==============================] - 1s 2ms/step - loss: 94.0388 - root_mean_squared_error: 9.6974\n",
      "Epoch 28/50\n",
      "313/313 [==============================] - 1s 3ms/step - loss: 93.0558 - root_mean_squared_error: 9.6465\n",
      "Epoch 29/50\n",
      "313/313 [==============================] - 1s 3ms/step - loss: 94.2181 - root_mean_squared_error: 9.7066\n",
      "Epoch 30/50\n",
      "313/313 [==============================] - 1s 2ms/step - loss: 93.1284 - root_mean_squared_error: 9.6503\n",
      "Epoch 31/50\n",
      "313/313 [==============================] - 1s 2ms/step - loss: 93.6747 - root_mean_squared_error: 9.6786\n",
      "Epoch 32/50\n",
      "313/313 [==============================] - 1s 3ms/step - loss: 93.4242 - root_mean_squared_error: 9.6656\n",
      "Epoch 33/50\n",
      "313/313 [==============================] - 1s 2ms/step - loss: 94.3246 - root_mean_squared_error: 9.7121\n",
      "Epoch 34/50\n",
      "313/313 [==============================] - 1s 3ms/step - loss: 93.7680 - root_mean_squared_error: 9.6834\n",
      "Epoch 35/50\n",
      "313/313 [==============================] - 1s 2ms/step - loss: 94.3515 - root_mean_squared_error: 9.7135\n",
      "Epoch 36/50\n",
      "313/313 [==============================] - 1s 2ms/step - loss: 93.3527 - root_mean_squared_error: 9.6619\n",
      "Epoch 37/50\n",
      "313/313 [==============================] - 1s 2ms/step - loss: 94.1501 - root_mean_squared_error: 9.7031\n",
      "Epoch 38/50\n",
      "313/313 [==============================] - 1s 2ms/step - loss: 93.9492 - root_mean_squared_error: 9.6927\n",
      "Epoch 39/50\n",
      "313/313 [==============================] - 1s 4ms/step - loss: 93.6171 - root_mean_squared_error: 9.6756\n",
      "Epoch 40/50\n",
      "313/313 [==============================] - 1s 3ms/step - loss: 94.1722 - root_mean_squared_error: 9.7042\n",
      "Epoch 41/50\n",
      "313/313 [==============================] - 1s 3ms/step - loss: 92.7155 - root_mean_squared_error: 9.6289\n",
      "Epoch 42/50\n",
      "313/313 [==============================] - 1s 4ms/step - loss: 93.4201 - root_mean_squared_error: 9.6654\n",
      "Epoch 43/50\n",
      "313/313 [==============================] - 1s 4ms/step - loss: 93.5136 - root_mean_squared_error: 9.6702\n",
      "Epoch 44/50\n",
      "313/313 [==============================] - 1s 4ms/step - loss: 94.1441 - root_mean_squared_error: 9.7028\n",
      "Epoch 45/50\n",
      "313/313 [==============================] - 1s 3ms/step - loss: 93.6194 - root_mean_squared_error: 9.6757\n",
      "Epoch 46/50\n",
      "313/313 [==============================] - 1s 3ms/step - loss: 93.9282 - root_mean_squared_error: 9.6917\n",
      "Epoch 47/50\n",
      "313/313 [==============================] - 1s 4ms/step - loss: 93.4173 - root_mean_squared_error: 9.6653\n",
      "Epoch 48/50\n",
      "313/313 [==============================] - 1s 3ms/step - loss: 93.5812 - root_mean_squared_error: 9.6737\n",
      "Epoch 49/50\n",
      "313/313 [==============================] - 1s 4ms/step - loss: 93.2197 - root_mean_squared_error: 9.6550\n",
      "Epoch 50/50\n",
      "313/313 [==============================] - 1s 4ms/step - loss: 93.1728 - root_mean_squared_error: 9.6526\n"
     ]
    },
    {
     "data": {
      "image/png": "[encoded data removed]",
      "text/plain": [
       "<Figure size 640x480 with 1 Axes>"
      ]
     },
     "metadata": {},
     "output_type": "display_data"
    }
   ],
   "source": [
    "valbiomeDictLAI[biome][name]['history'] = valbiomeDictLAI[7][name]['model'].fit(calbiomeDictLAI[biome]['X_train'].to_numpy(), calbiomeDictLAI[biome]['y_train'].to_numpy(), epochs=50, verbose=1)\n",
    "plt.plot(valbiomeDictLAI[biome][name]['history'].history['loss'])\n",
    "plt.xlabel('Epochs')\n",
    "plt.ylabel('Loss');"
   ]
  },
  {
   "cell_type": "code",
   "execution_count": 171,
   "id": "40ef80b9-838d-4a77-953e-58e0ea3411ea",
   "metadata": {
    "tags": []
   },
   "outputs": [
    {
     "data": {
      "text/plain": [
       "Text(0.5, 1.0, 'nn_80_1')"
      ]
     },
     "execution_count": 171,
     "metadata": {},
     "output_type": "execute_result"
    },
    {
     "data": {
      "image/png": "[encoded data removed]",
      "text/plain": [
       "<Figure size 640x480 with 1 Axes>"
      ]
     },
     "metadata": {},
     "output_type": "display_data"
    }
   ],
   "source": [
    "y_model = valbiomeDictLAI[biome][name]['model'](valbiomeDictLAI[biome]['X_test'])\n",
    "plt.scatter(valbiomeDictLAI[biome]['y_test'], y_model, alpha=0.5, s=12, lw=0)\n",
    "plt.plot([0, 70], [0, 70], 'k--')\n",
    "plt.xlabel(\"Reference\")\n",
    "plt.ylabel(\"Predicted\")\n",
    "plt.title(name)"
   ]
  },
  {
   "cell_type": "markdown",
   "id": "c78de0e7-0f77-4b50-9276-17852fff56e8",
   "metadata": {
    "jp-MarkdownHeadingCollapsed": true,
    "tags": []
   },
   "source": [
    "### Aleatoric Uncertainty"
   ]
  },
  {
   "cell_type": "markdown",
   "id": "7ae88752-be21-485e-bc62-142c2acd45ed",
   "metadata": {
    "tags": []
   },
   "source": [
    "#### Background Information\n",
    "**Aleatoric Uncertainity**, or data uncertainty, relates to the data generating process that produces our data and captures the unpredictable randomness in outcomes when repeating the same experiement with exactly the same settings many times. The most important fact about aleatoric uncertainty is that it cannot be reduced by adding more data."
   ]
  },
  {
   "cell_type": "markdown",
   "id": "b37bb7a1-b5c5-485d-8995-428eada68574",
   "metadata": {
    "jp-MarkdownHeadingCollapsed": true,
    "tags": []
   },
   "source": [
    "#### Defining a log-likelihood Loss Function\n",
    "We first create a function that takes some data and distribution object and computes log-liklihood of the data given to the distribution. Like any TensorFlow-compatible loss function, the function takes true values `y_true` and predictions `y_pred`. Then we compute the log-PDF with the `log_prob()` method and reverse the sign to maximize the liklihood. "
   ]
  },
  {
   "cell_type": "code",
   "execution_count": 21,
   "id": "1fbafde4-9b9a-4eb5-a92c-a5426f7a9e9d",
   "metadata": {
    "tags": []
   },
   "outputs": [],
   "source": [
    "negloglik = lambda y_true, y_pred: -y_pred.log_prob(y_true)"
   ]
  },
  {
   "cell_type": "markdown",
   "id": "145b1f25-0e9f-4e20-beb6-caecdf5f43a0",
   "metadata": {
    "jp-MarkdownHeadingCollapsed": true,
    "tags": []
   },
   "source": [
    "#### Defining the Model\n",
    "Our model has 2 types of layers. The first type is a regular Keras `Dense` layer, whose purpose is to parametrize the distribution in the second layer.\n",
    "\n",
    "The second type of layer is `IndependentNormal`. Probabilistic layers in TFP are wrappers around distribution objects that allow for smooth integration of TFP distribution with regular TensorFlow layers. The `event_shpae()` represent the dimentionality of the output.\n",
    "\n",
    "`.params_size()` is a very convenient method that returns the number of parameters necessary to parametrize a distribution given its event shape. In this case, the method returns 2, as we are parameterizing a 1 dimensional `IndependentNormal` which has 2 parameters — mean and standard deviation."
   ]
  },
  {
   "cell_type": "code",
   "execution_count": 22,
   "id": "0bf50982-416d-4782-9da2-6e23d7b611a0",
   "metadata": {
    "tags": []
   },
   "outputs": [],
   "source": [
    "for i in biomes:\n",
    "    normalizer = layers.Normalization(input_shape=[5,], axis=None)\n",
    "    normalizer.adapt(np.array(calbiomeDictLAI[i]['X_train']))\n",
    "    \n",
    "    valbiomeDictLAI[i]['nn'] = tf.keras.Sequential([\n",
    "        normalizer,\n",
    "        layers.Dense(80, activation='relu'),\n",
    "        layers.Dense(25, activation='relu'),\n",
    "        layers.Dense(tfpl.IndependentNormal.params_size(1)),\n",
    "        tfpl.IndependentNormal(event_shape=1)])"
   ]
  },
  {
   "cell_type": "code",
   "execution_count": 23,
   "id": "8dcee266-d0a1-4be5-aa52-3ca15cb45bf8",
   "metadata": {
    "tags": []
   },
   "outputs": [],
   "source": [
    "for i in biomes:\n",
    "    normalizer = layers.Normalization(input_shape=[5,], axis=None)\n",
    "    normalizer.adapt(np.array(calbiomeDictLAI[i]['X_train']))\n",
    "    \n",
    "    valbiomeDictLAI[i]['nn'] = tf.keras.Sequential([\n",
    "        normalizer,\n",
    "        layers.Dense(tfpl.IndependentNormal.params_size(80)),\n",
    "        tfpl.IndependentNormal(event_shape=80),\n",
    "        layers.Dense(tfpl.IndependentNormal.params_size(25)),\n",
    "        tfpl.IndependentNormal(event_shape=25),\n",
    "        layers.Dense(tfpl.IndependentNormal.params_size(1)),\n",
    "        tfpl.IndependentNormal(event_shape=1)])\n",
    "    \n",
    "     valbiomeDictLAI[i]['nn'].compile(optimizer=tf.optimizers.Adam(learning_rate=0.01),\n",
    "                  loss=negloglik,\n",
    "                  metrics=[tf.keras.metrics.RootMeanSquaredError()])"
   ]
  },
  {
   "cell_type": "code",
   "execution_count": 25,
   "id": "904d297d-2159-4a7e-ac5b-9180bf918c5c",
   "metadata": {
    "tags": []
   },
   "outputs": [],
   "source": [
    "# class myCallback(tf.keras.callbacks.Callback):\n",
    "#     def on_epoch_end(self, epoch, logs={}):\n",
    "#         if logs.get('accuracy') is not None and logs.get('accuracy') > 0.99:                 \n",
    "#             self.model.stop_training = True"
   ]
  },
  {
   "cell_type": "markdown",
   "id": "6323bb5b-5f66-4089-88d7-5830fbc56b3c",
   "metadata": {
    "jp-MarkdownHeadingCollapsed": true,
    "tags": []
   },
   "source": [
    "#### Training the Model\n",
    "Train the model for 50 epochs."
   ]
  },
  {
   "cell_type": "code",
   "execution_count": null,
   "id": "babd7354-0782-41d6-8dcf-c61c770d5d12",
   "metadata": {
    "tags": []
   },
   "outputs": [],
   "source": [
    "for i in [1]:\n",
    "    callbacks = myCallback()\n",
    "    valbiomeDictLAI[i]['nn_history'] = valbiomeDictLAI[i]['nn'].fit(calbiomeDictLAI[i]['X_train'].to_numpy(), calbiomeDictLAI[i]['y_train'].to_numpy(), epochs=50, validation_split=0.2, verbose=1)"
   ]
  },
  {
   "cell_type": "code",
   "execution_count": null,
   "id": "98266f8e-6d08-4df6-b9e1-5cc4c29d2abb",
   "metadata": {
    "tags": []
   },
   "outputs": [],
   "source": [
    "valbiomeDictLAI[i]['DF']['y_nn'] = valbiomeDictLAI[i]['nn'].predict(valbiomeDictLAI[i]['X_test'])"
   ]
  },
  {
   "cell_type": "code",
   "execution_count": null,
   "id": "4002de93-45f8-4d84-83e0-c0adad1066be",
   "metadata": {
    "tags": []
   },
   "outputs": [],
   "source": [
    "y_mean = valbiomeDictLAI[i]['nn'](valbiomeDictLAI[i]['X_test'].to_numpy()).mean()\n",
    "y_sd = valbiomeDictLAI[i]['nn'](valbiomeDictLAI[i]['X_test'].to_numpy()).stddev()\n",
    "\n",
    "y_hat_lower = y_mean - 2 * y_sd\n",
    "y_hat_upper = y_mean + 2 * y_sd"
   ]
  },
  {
   "cell_type": "code",
   "execution_count": null,
   "id": "882fdf63-d5d7-43ab-9f7d-1282cb8e1351",
   "metadata": {
    "tags": []
   },
   "outputs": [],
   "source": [
    "print(y_sd)\n",
    "print(y_mean)"
   ]
  },
  {
   "cell_type": "code",
   "execution_count": null,
   "id": "6fd7ce3a-9881-440e-96ac-f1432be6d3d1",
   "metadata": {
    "tags": []
   },
   "outputs": [],
   "source": [
    "axes = []\n",
    "for i in [1]:\n",
    "    axes.append(plt.scatter(valbiomeDictLAI[i]['y_test'], y_sd, s=8, alpha=0.5, edgecolors='none', label=str(i)))\n",
    "plt.plot([0, 70], [0, 70], 'k--')\n",
    "plt.xlabel(\"Reference LAI\")\n",
    "plt.ylabel(\"Predicted LAI\")\n",
    "plt.title('Neural Network')\n",
    "plt.xlim([0, 70])\n",
    "# plt.ylim([-50, 120])\n",
    "plt.legend(handles=axes, loc='center left', bbox_to_anchor=(1, 0.5), title='Biome')\n",
    "plt.show()"
   ]
  },
  {
   "cell_type": "code",
   "execution_count": null,
   "id": "c7b2bf46-915d-4a20-ac99-fb274416b8a0",
   "metadata": {
    "tags": []
   },
   "outputs": [],
   "source": [
    "sklearn.metrics.mean_squared_error(valbiomeDictLAI[1]['y_test'], valbiomeDictLAI[1]['DF']['y_nn'], squared=False)"
   ]
  },
  {
   "cell_type": "code",
   "execution_count": null,
   "id": "33c7e8e0-b661-4f21-aa83-348c11578254",
   "metadata": {
    "tags": []
   },
   "outputs": [],
   "source": [
    "valbiomeDictLAI[2]['nn'].summary()"
   ]
  },
  {
   "cell_type": "markdown",
   "id": "c4f13aec-60dc-419e-ae7c-d95980b452e5",
   "metadata": {
    "tags": []
   },
   "source": [
    "### Epistemic Uncertainty"
   ]
  },
  {
   "cell_type": "markdown",
   "id": "1e302985-8996-4c58-8eae-d3fb00557f8d",
   "metadata": {
    "jp-MarkdownHeadingCollapsed": true,
    "tags": []
   },
   "source": [
    "#### Sources\n",
    "Probabilistic regression with Tensorflow: https://ekamperi.github.io/machine%20learning/2021/01/07/probabilistic-regression-with-tensorflow.html \\\n",
    "Modeling uncertainity in neural networks with TensorFlow Probability: https://towardsdatascience.com/modeling-uncertainty-in-neural-networks-with-tensorflow-probability-d519a4426e9c"
   ]
  },
  {
   "cell_type": "markdown",
   "id": "9c79279f-3cca-4207-a516-93531031fb08",
   "metadata": {
    "jp-MarkdownHeadingCollapsed": true,
    "tags": []
   },
   "source": [
    "#### Background Information\n",
    "**Epistemic uncertainty** or model uncertainty is related to our knowledge regarding the data generating process. For example, the uncertainty regarding which parameters accurately model the experimental data. \n",
    "\n",
    "Epistemic uncertainty can be decreased by adding more training data. Its modeling is realized by enabling a neural network's wieghts to be probabilistic rather than deterministic,"
   ]
  },
  {
   "cell_type": "markdown",
   "id": "35c5439f-5fc1-4885-9a31-44181c6a6d7f",
   "metadata": {
    "jp-MarkdownHeadingCollapsed": true,
    "tags": []
   },
   "source": [
    "#### Prior Distribution\n",
    "Defining a prior distribution for model's weights. Adopting a normal distribution as a prior is a good way to initalize a probabilistic neural network. As the **central limit theorem** assets, a properly normalized sum of samples will approximate a nromal distribution no matter the actual underlying distribution.\n",
    "\n",
    "We used `MultivariateNormalDiag()` (a multivariate normal distribution wtih a diagonal covariance matrix), with zero mean (`loc=tf.zeros(n)`) and a standard deviation of 1 (`scale_diag=tf.ones(n)`). The we use the `DistrubtionLambda()` function to transform the distribution object into a Keras-compatible layer, and inject it into a `keras.Sequantial()` model. "
   ]
  },
  {
   "cell_type": "code",
   "execution_count": 7,
   "id": "9c36f494-ccf6-4bfa-b2bc-6041406b4f48",
   "metadata": {
    "tags": []
   },
   "outputs": [],
   "source": [
    "def get_prior(kernel_size, bias_size, dtype=None):\n",
    "    n = kernel_size + bias_size\n",
    "    prior_model = tf.keras.Sequential([\n",
    "        tfpl.DistributionLambda(lambda t: tfd.MultivariateNormalDiag(\n",
    "        loc=tf.zeros(n), scale_diag=tf.ones(n)))\n",
    "    ])\n",
    "    return prior_model"
   ]
  },
  {
   "cell_type": "markdown",
   "id": "a3fbf719-6f9f-47fe-8629-d1fa7d4825ff",
   "metadata": {
    "jp-MarkdownHeadingCollapsed": true,
    "tags": []
   },
   "source": [
    "#### Posterior Distribution\n",
    "Unlike the prior distribution, we want the posterior to be trainable. We will use a multivariate Gaussian distribution, but allows off-diagonal elements in the covariance matrix to be non-zero. \n",
    "There are 3 ways to parameterize such a distribution:\n",
    "1. in terms of a positive definite covariance matrix\n",
    "2. via a positive definite precision matrix\n",
    "3. with a lower-triangular matrix with positive-valued diagonal entries (can be obtained via **Cholesky decomposition**)\n",
    "\n",
    "In this case, we use method 3 with `MultivariateNromalTriL()` (*TriL* stands for *triangular lower*). We will use `VariableLayer()` that generates a trainable variable to parametrize `MultivariateNromalTriL()`, using `.params_size()` to get a precise number of parameters necessary."
   ]
  },
  {
   "cell_type": "code",
   "execution_count": 8,
   "id": "a3e6d539-e48d-43da-8d6e-f27ee2848dd6",
   "metadata": {
    "tags": []
   },
   "outputs": [],
   "source": [
    "def get_posterior(kernel_size, bias_size, dtype=None):\n",
    "    n = kernel_size + bias_size\n",
    "    posterior_model = tf.keras.Sequential([\n",
    "        tfpl.VariableLayer(tfpl.MultivariateNormalTriL.params_size(n), dtype=dtype),\n",
    "        tfpl.MultivariateNormalTriL(n)\n",
    "    ])\n",
    "    return posterior_model"
   ]
  },
  {
   "cell_type": "markdown",
   "id": "1f08609c-0038-4081-8719-21e0b27bd33c",
   "metadata": {
    "tags": []
   },
   "source": [
    "#### Defining the model\n",
    "Before defining the model, we first normalize the inputs using the Keras `Normalization()` layer to transform the data to be on a similar scale. We call the `adapt()` method on our input data to get the mean and standard deviation of the dataset and set our normalization layer to use those parameters. And so the first layer of our model normalizes our data.\n",
    "\n",
    "We then define the probabilistic layers in our neural network using the `DenseVariational()` function, specifying input/output shape, with the prior and posterior distributions previously defined. Note that the prior and posterior functions should be passed as objects without actually calling them. \n",
    "\n",
    "The last 2 parameters specified in the variational layer are related to **Kullback_Leibler divergence** (KL divergence). Because this term is coputed on a different subset of data than the second term in ELBO, we need to rescale it so that it's unbiased. `kl_use_exact()` controls if we want to compute KL divergence analytically or use and empirical approximation (default is `False`: empirical approximation).\n",
    "\n",
    "This layer implements *Bayes by backprop*, an approximate method that can be used for efficient weight uncertainty estimation in neural networks. It returns a point estimate of the output, but its weights (and biases) are probabilistic.\n",
    "\n",
    "Use a **relu** activation function to add non-linearity to the network."
   ]
  },
  {
   "cell_type": "code",
   "execution_count": 182,
   "id": "45aabe5d-0da4-477a-a567-aadb3682aa1e",
   "metadata": {
    "tags": []
   },
   "outputs": [
    {
     "name": "stdout",
     "output_type": "stream",
     "text": [
      "Model: \"sequential_36\"\n",
      "_________________________________________________________________\n",
      " Layer (type)                Output Shape              Param #   \n",
      "=================================================================\n",
      " normalization_38 (Normaliza  (None, 5)                3         \n",
      " tion)                                                           \n",
      "                                                                 \n",
      " dense_variational_57 (Dense  (None, 8)                1224      \n",
      " Variational)                                                    \n",
      "                                                                 \n",
      " dense_variational_58 (Dense  (None, 1)                54        \n",
      " Variational)                                                    \n",
      "                                                                 \n",
      "=================================================================\n",
      "Total params: 1,281\n",
      "Trainable params: 1,278\n",
      "Non-trainable params: 3\n",
      "_________________________________________________________________\n"
     ]
    }
   ],
   "source": [
    "# Define the model, negative-log likelihood as the loss function\n",
    "# and compile the model with the Adam optimizer\n",
    "normalizer = layers.Normalization(input_shape=[5,], axis=None)\n",
    "normalizer.adapt(np.array(calbiomeDictLAI[7]['X_train']))\n",
    "\n",
    "name = 'pnn_8_1'\n",
    "biome = 7\n",
    "\n",
    "valbiomeDictLAI[biome][name] = dict()\n",
    "\n",
    "valbiomeDictLAI[biome][name]['model'] = tf.keras.Sequential([\n",
    "    normalizer,\n",
    "    tfpl.DenseVariational(units=8,\n",
    "                          make_prior_fn=get_prior,\n",
    "                          make_posterior_fn=get_posterior,\n",
    "                          kl_weight=1/calbiomeDictLAI[1]['X_train'].shape[0],\n",
    "                          kl_use_exact=False,\n",
    "                          activation='relu'),\n",
    "    # tfpl.DenseVariational(units=25,\n",
    "    #                       make_prior_fn=get_prior,\n",
    "    #                       make_posterior_fn=get_posterior,\n",
    "    #                       kl_weight=1/calbiomeDictLAI[1]['X_train'].shape[0],\n",
    "    #                       kl_use_exact=False,\n",
    "    #                       activation='relu'),\n",
    "    tfpl.DenseVariational(units=1,\n",
    "                          make_prior_fn=get_prior,\n",
    "                          make_posterior_fn=get_posterior,\n",
    "                          kl_weight=1/calbiomeDictLAI[1]['X_train'].shape[0],\n",
    "                          kl_use_exact=False)\n",
    "])\n",
    "\n",
    "def nll(y_true, y_pred):\n",
    "                   dist = tfp.distributions.Normal(loc=y_pred, scale=1.0)\n",
    "                   return tf.reduce_sum(-dist.log_prob(y_true))\n",
    "\n",
    "valbiomeDictLAI[biome][name]['model'].compile(loss=nll, optimizer=tf.keras.optimizers.Adam(learning_rate=0.01), metrics=[tf.keras.metrics.RootMeanSquaredError()])\n",
    "valbiomeDictLAI[biome][name]['model'].summary()"
   ]
  },
  {
   "cell_type": "markdown",
   "id": "8e382eff-5f2f-4f06-b7f8-bfac0b088539",
   "metadata": {},
   "source": [
    "#### Train the Model\n",
    "Train the model for 50 epochs and plot the loss function to confirm that the algorithm as converged."
   ]
  },
  {
   "cell_type": "code",
   "execution_count": 183,
   "id": "2b5699cd-715d-48ab-a555-d200b3faebee",
   "metadata": {},
   "outputs": [
    {
     "name": "stdout",
     "output_type": "stream",
     "text": [
      "Epoch 1/50\n",
      "313/313 [==============================] - 5s 5ms/step - loss: 8368.6162 - root_mean_squared_error: 22.8339\n",
      "Epoch 2/50\n",
      "313/313 [==============================] - 2s 6ms/step - loss: 3599.0813 - root_mean_squared_error: 14.9419\n",
      "Epoch 3/50\n",
      "313/313 [==============================] - 2s 5ms/step - loss: 3219.1455 - root_mean_squared_error: 14.1243\n",
      "Epoch 4/50\n",
      "313/313 [==============================] - 2s 5ms/step - loss: 3012.1565 - root_mean_squared_error: 13.6595\n",
      "Epoch 5/50\n",
      "313/313 [==============================] - 2s 5ms/step - loss: 2886.4778 - root_mean_squared_error: 13.3705\n",
      "Epoch 6/50\n",
      "313/313 [==============================] - 2s 5ms/step - loss: 2919.2190 - root_mean_squared_error: 13.4436\n",
      "Epoch 7/50\n",
      "313/313 [==============================] - 2s 5ms/step - loss: 2729.1501 - root_mean_squared_error: 12.9949\n",
      "Epoch 8/50\n",
      "313/313 [==============================] - 2s 5ms/step - loss: 2750.2332 - root_mean_squared_error: 13.0439\n",
      "Epoch 9/50\n",
      "313/313 [==============================] - 1s 5ms/step - loss: 2688.1377 - root_mean_squared_error: 12.8952\n",
      "Epoch 10/50\n",
      "313/313 [==============================] - 1s 5ms/step - loss: 2575.9451 - root_mean_squared_error: 12.6219\n",
      "Epoch 11/50\n",
      "313/313 [==============================] - 2s 5ms/step - loss: 2547.2805 - root_mean_squared_error: 12.5476\n",
      "Epoch 12/50\n",
      "313/313 [==============================] - 2s 5ms/step - loss: 2551.8638 - root_mean_squared_error: 12.5624\n",
      "Epoch 13/50\n",
      "313/313 [==============================] - 1s 5ms/step - loss: 2560.9146 - root_mean_squared_error: 12.5822\n",
      "Epoch 14/50\n",
      "313/313 [==============================] - 2s 5ms/step - loss: 2534.3496 - root_mean_squared_error: 12.5154\n",
      "Epoch 15/50\n",
      "313/313 [==============================] - 1s 4ms/step - loss: 2424.4668 - root_mean_squared_error: 12.2393\n",
      "Epoch 16/50\n",
      "313/313 [==============================] - 1s 4ms/step - loss: 2456.7676 - root_mean_squared_error: 12.3221\n",
      "Epoch 17/50\n",
      "313/313 [==============================] - 2s 5ms/step - loss: 2440.7605 - root_mean_squared_error: 12.2794\n",
      "Epoch 18/50\n",
      "313/313 [==============================] - 1s 5ms/step - loss: 2346.6365 - root_mean_squared_error: 12.0419\n",
      "Epoch 19/50\n",
      "313/313 [==============================] - 1s 5ms/step - loss: 2254.4575 - root_mean_squared_error: 11.7967\n",
      "Epoch 20/50\n",
      "313/313 [==============================] - 1s 3ms/step - loss: 2290.4641 - root_mean_squared_error: 11.8908\n",
      "Epoch 21/50\n",
      "313/313 [==============================] - 1s 3ms/step - loss: 2284.9788 - root_mean_squared_error: 11.8814\n",
      "Epoch 22/50\n",
      "313/313 [==============================] - 2s 6ms/step - loss: 2248.7173 - root_mean_squared_error: 11.7818\n",
      "Epoch 23/50\n",
      "313/313 [==============================] - 3s 10ms/step - loss: 2225.3784 - root_mean_squared_error: 11.7279\n",
      "Epoch 24/50\n",
      "313/313 [==============================] - 4s 12ms/step - loss: 2193.9419 - root_mean_squared_error: 11.6346\n",
      "Epoch 25/50\n",
      "313/313 [==============================] - 2s 7ms/step - loss: 2116.5264 - root_mean_squared_error: 11.4237\n",
      "Epoch 26/50\n",
      "313/313 [==============================] - 2s 6ms/step - loss: 2197.8035 - root_mean_squared_error: 11.6481\n",
      "Epoch 27/50\n",
      "313/313 [==============================] - 2s 5ms/step - loss: 2110.7681 - root_mean_squared_error: 11.4123\n",
      "Epoch 28/50\n",
      "313/313 [==============================] - 2s 5ms/step - loss: 2200.7727 - root_mean_squared_error: 11.6567\n",
      "Epoch 29/50\n",
      "313/313 [==============================] - 2s 5ms/step - loss: 2066.3723 - root_mean_squared_error: 11.2890\n",
      "Epoch 30/50\n",
      "313/313 [==============================] - 1s 4ms/step - loss: 2064.3381 - root_mean_squared_error: 11.2824\n",
      "Epoch 31/50\n",
      "313/313 [==============================] - 2s 5ms/step - loss: 2075.8638 - root_mean_squared_error: 11.3127\n",
      "Epoch 32/50\n",
      "313/313 [==============================] - 1s 4ms/step - loss: 2027.9781 - root_mean_squared_error: 11.1797\n",
      "Epoch 33/50\n",
      "313/313 [==============================] - 1s 5ms/step - loss: 2148.6819 - root_mean_squared_error: 11.5114\n",
      "Epoch 34/50\n",
      "313/313 [==============================] - 2s 5ms/step - loss: 1979.8984 - root_mean_squared_error: 11.0447\n",
      "Epoch 35/50\n",
      "313/313 [==============================] - 2s 5ms/step - loss: 2012.6770 - root_mean_squared_error: 11.1362\n",
      "Epoch 36/50\n",
      "313/313 [==============================] - 2s 5ms/step - loss: 2038.5936 - root_mean_squared_error: 11.2093\n",
      "Epoch 37/50\n",
      "313/313 [==============================] - 2s 5ms/step - loss: 2001.6414 - root_mean_squared_error: 11.1092\n",
      "Epoch 38/50\n",
      "313/313 [==============================] - 1s 4ms/step - loss: 2029.8976 - root_mean_squared_error: 11.1880\n",
      "Epoch 39/50\n",
      "313/313 [==============================] - 2s 5ms/step - loss: 1922.6182 - root_mean_squared_error: 10.8811\n",
      "Epoch 40/50\n",
      "313/313 [==============================] - 1s 5ms/step - loss: 2013.5946 - root_mean_squared_error: 11.1395\n",
      "Epoch 41/50\n",
      "313/313 [==============================] - 1s 4ms/step - loss: 1954.6764 - root_mean_squared_error: 10.9733\n",
      "Epoch 42/50\n",
      "313/313 [==============================] - 3s 10ms/step - loss: 1986.5222 - root_mean_squared_error: 11.0642\n",
      "Epoch 43/50\n",
      "313/313 [==============================] - 2s 6ms/step - loss: 2027.1110 - root_mean_squared_error: 11.1761\n",
      "Epoch 44/50\n",
      "313/313 [==============================] - 2s 6ms/step - loss: 1941.2039 - root_mean_squared_error: 10.9340\n",
      "Epoch 45/50\n",
      "313/313 [==============================] - 2s 7ms/step - loss: 1971.1354 - root_mean_squared_error: 11.0205\n",
      "Epoch 46/50\n",
      "313/313 [==============================] - 2s 5ms/step - loss: 1869.9442 - root_mean_squared_error: 10.7315\n",
      "Epoch 47/50\n",
      "313/313 [==============================] - 2s 5ms/step - loss: 1976.2446 - root_mean_squared_error: 11.0363\n",
      "Epoch 48/50\n",
      "313/313 [==============================] - 2s 5ms/step - loss: 2024.8444 - root_mean_squared_error: 11.1732\n",
      "Epoch 49/50\n",
      "313/313 [==============================] - 2s 5ms/step - loss: 1886.3118 - root_mean_squared_error: 10.7750\n",
      "Epoch 50/50\n",
      "313/313 [==============================] - 1s 4ms/step - loss: 1910.3870 - root_mean_squared_error: 10.8459\n"
     ]
    },
    {
     "data": {
      "image/png": "[encoded data removed]",
      "text/plain": [
       "<Figure size 640x480 with 1 Axes>"
      ]
     },
     "metadata": {},
     "output_type": "display_data"
    }
   ],
   "source": [
    "# Train the model for 50 epochs\n",
    "valbiomeDictLAI[biome][name]['history'] = valbiomeDictLAI[biome][name]['model'].fit(calbiomeDictLAI[biome]['X_train'].to_numpy(), calbiomeDictLAI[biome]['y_train'].to_numpy(), epochs=50, verbose=1)\n",
    "plt.plot(valbiomeDictLAI[biome][name]['history'].history['loss'])\n",
    "plt.xlabel('Epochs')\n",
    "plt.ylabel('Loss');"
   ]
  },
  {
   "cell_type": "code",
   "execution_count": 184,
   "id": "158ae637-a837-4164-8e6a-b410943feec5",
   "metadata": {
    "tags": []
   },
   "outputs": [
    {
     "data": {
      "text/plain": [
       "Text(0.5, 1.0, 'pnn_8_1')"
      ]
     },
     "execution_count": 184,
     "metadata": {},
     "output_type": "execute_result"
    },
    {
     "data": {
      "image/png": "[encoded data removed]",
      "text/plain": [
       "<Figure size 640x480 with 1 Axes>"
      ]
     },
     "metadata": {},
     "output_type": "display_data"
    }
   ],
   "source": [
    "for i in range(5):\n",
    "    y_model = valbiomeDictLAI[biome][name]['model'](valbiomeDictLAI[biome]['X_test'])\n",
    "    plt.scatter(valbiomeDictLAI[biome]['y_test'], y_model, alpha=0.5, s=12, lw=0)\n",
    "plt.plot([0, 70], [0, 70], 'k--')\n",
    "plt.xlabel(\"Reference\")\n",
    "plt.ylabel(\"Predicted\")\n",
    "plt.title(name)"
   ]
  },
  {
   "cell_type": "markdown",
   "id": "61264fdd-0528-4910-8c68-ba44f3e2bbf6",
   "metadata": {
    "jp-MarkdownHeadingCollapsed": true,
    "tags": []
   },
   "source": [
    "## Questions\n",
    "1. Which predictor is better in general in terms of RMSE  and bias overall and for unsaturated and saturated validation samples.\n",
    "2. What is the relative size of the actual prediction residual absolute residual to the prediction confidence interval (98.5 - as a parameter)\n",
    "3. What is the relative size of the standard deviation of LAI or fAPAR absolute residual to the prediction confidence interval\n",
    "4. Does the prediction confidence interval change as the sample size decreases?"
   ]
  },
  {
   "cell_type": "code",
   "execution_count": null,
   "id": "636635a6-d2c2-4ba4-b270-257453dfca4e",
   "metadata": {
    "tags": []
   },
   "outputs": [],
   "source": [
    "predictors = ['nn', 'rf']\n",
    "for biome in biomes:\n",
    "    valbiomeDictLAI[biome]['result_df_100'] = pd.DataFrame()\n",
    "    for predictor in predictors:\n",
    "        df = pd.DataFrame(data = {\n",
    "            'y_true': valbiomeDictLAI[biome]['y_test'],\n",
    "            'y_pred': valbiomeDictLAI[biome]['DF']['y_' + predictor],\n",
    "            'rmse': metrics.mean_squared_error(valbiomeDictLAI[i]['y_test'],valbiomeDictLAI[i]['DF']['y_' + predictor], squared=False),\n",
    "            'residual': valbiomeDictLAI[biome]['DF']['y_' + predictor] - valbiomeDictLAI[biome]['y_test'],\n",
    "            # 'sd': valbiomeDictLAI[biome]['DF']['stddev_' + predictor],\n",
    "            'pi_mag': valbiomeDictLAI[biome]['DF']['upper'] - valbiomeDictLAI[biome]['DF']['lower'],\n",
    "            'sample_size': 100,\n",
    "            'predictor': predictor\n",
    "        })\n",
    "        valbiomeDictLAI[biome]['result_df_100'] = pd.concat([valbiomeDictLAI[biome]['result_df'], df])"
   ]
  },
  {
   "cell_type": "markdown",
   "id": "5046c560-fff5-4c15-9233-85b7b38ccf1f",
   "metadata": {
    "jp-MarkdownHeadingCollapsed": true,
    "tags": []
   },
   "source": [
    "### Question 1\n",
    "Which predictor is better in general in terms of RMSE and bias overall and for unsaturated and saturated validation samples. "
   ]
  },
  {
   "cell_type": "code",
   "execution_count": null,
   "id": "cd6122ff-d805-44a9-bbc5-c9ef1ae1b11b",
   "metadata": {
    "tags": []
   },
   "outputs": [],
   "source": [
    "# kde plots of both methods on the same graph showing predicted versus actual\n",
    "fig, ax = plt.subplots()\n",
    "sns.kdeplot(data=valbiomeDictLAI[i]['result_df_100'], x='y_true', y='y_pred', hue='predictor')\n",
    "plt.plot([-10, 80], [-10, 80], 'k--')\n",
    "plt.xlim([-10, 80])\n",
    "plt.ylim([-10, 80])"
   ]
  },
  {
   "cell_type": "code",
   "execution_count": null,
   "id": "abd9f4f2-e0e7-4e34-8b18-3b5fc1d630a7",
   "metadata": {},
   "outputs": [],
   "source": [
    "# Scatter plots (with 1000 samples only) of each estimated versus predicted together with confidence intervals indicated using symbols rather than bars\n"
   ]
  },
  {
   "cell_type": "markdown",
   "id": "d682a034-7d16-47e4-b0f7-3793aed9e1d8",
   "metadata": {
    "jp-MarkdownHeadingCollapsed": true,
    "tags": []
   },
   "source": [
    "### Question 2\n",
    "What is the relative size of the actual prediction residual absolute residual to the prediction confidence interval (98.5 - as a parameter)"
   ]
  },
  {
   "cell_type": "code",
   "execution_count": null,
   "id": "b6858e86-e9ab-4330-b699-a2a1f2f0f3f2",
   "metadata": {},
   "outputs": [],
   "source": [
    "# kde plots of both methods with x axis showing the prediction and y the relative size.\n",
    "sns.kdeplot(data=valbiomeDictLAI[i]['result_df_100'], x='y_true', y='residual', hue='predictor')\n",
    "plt.plot([0, 80], [0, 0], 'k--')"
   ]
  },
  {
   "cell_type": "markdown",
   "id": "a6adbcb4-16da-48a3-ba44-3151543b4d7c",
   "metadata": {
    "jp-MarkdownHeadingCollapsed": true,
    "tags": []
   },
   "source": [
    "### Question 3\n",
    "What is the relative size of the standard deviation of LAI or fAPAR  absolute residual to the  prediction confidence interval"
   ]
  },
  {
   "cell_type": "code",
   "execution_count": null,
   "id": "97f91d3b-0516-4a75-9fad-82ab4f670168",
   "metadata": {},
   "outputs": [],
   "source": [
    "# kde plots of both methods with x axis showing the prediction and y the relative size.\n",
    "sns.kdeplot(data=valbiomeDictLAI[i]['result_df_100'], x='y_true', y='stddev', hue='predictor')\n",
    "plt.plot([-10, 80], [-10, 80], 'k--')"
   ]
  },
  {
   "cell_type": "markdown",
   "id": "a3bed6a9-5191-48e8-93a8-e89fa23057c5",
   "metadata": {
    "jp-MarkdownHeadingCollapsed": true,
    "tags": []
   },
   "source": [
    "### Question 4\n",
    "Does the prediction confidence interval change as the sample size decreases?  "
   ]
  },
  {
   "cell_type": "code",
   "execution_count": null,
   "id": "ed5b5e33-8633-4302-9dc2-15074c01fc5f",
   "metadata": {
    "tags": []
   },
   "outputs": [],
   "source": [
    "# Sample 50% of the calibration data\n",
    "for i in biomes:\n",
    "    calbiomeDictLAI[i]['X_train_50'] = calbiomeDictLAI[i]['X_train'].sample(frac=0.5)\n",
    "    calbiomeDictLAI[i]['y_train_50'] = calbiomeDictLAI[i]['y_train'].sample(frac=0.5)"
   ]
  },
  {
   "cell_type": "code",
   "execution_count": null,
   "id": "c48036be-2259-4121-be35-cdab3f79f36b",
   "metadata": {
    "tags": []
   },
   "outputs": [],
   "source": [
    "# Create and fit a Random Forest Quantile Regressor using 50% of the calibration samples\n",
    "for i in biomes:\n",
    "    valbiomeDictLAI[i]['rfqr_50'] = RandomForestQuantileRegressor(n_estimators=100,min_samples_leaf=10,max_features=5,bootstrap=True,random_state=0,verbose=0,n_jobs=-1,max_leaf_nodes=10000)\n",
    "    valbiomeDictLAI[i]['rfqr_50'].set_params(max_features=calbiomeDictLAI[i]['X_train_50'].shape[1] // 3)\n",
    "    valbiomeDictLAI[i]['rfqr_50'] = valbiomeDictLAI[i]['rfqr'].fit(calbiomeDictLAI[i]['X_train_50'], calbiomeDictLAI[i]['y_train_50'])"
   ]
  },
  {
   "cell_type": "code",
   "execution_count": null,
   "id": "63617e60-d008-42cf-8e64-646f522093c2",
   "metadata": {
    "tags": []
   },
   "outputs": [],
   "source": [
    "# Predicting a Random Forest Quantile Regressor for each biome type with 95% prediction confidence interval\n",
    "for i in biomes:\n",
    "    valbiomeDictLAI[i]['DF']['upper_50'] = valbiomeDictLAI[i]['rfqr'].predict(valbiomeDictLAI[i]['X_test'], quantile=98.5)\n",
    "    valbiomeDictLAI[i]['DF']['lower_50'] = valbiomeDictLAI[i]['rfqr'].predict(valbiomeDictLAI[i]['X_test'], quantile=2.5)\n",
    "    valbiomeDictLAI[i]['DF']['mid_50'] = valbiomeDictLAI[i]['rfqr'].predict(valbiomeDictLAI[i]['X_test'], quantile=50)"
   ]
  },
  {
   "cell_type": "code",
   "execution_count": null,
   "id": "885e3eba-f56c-4cee-889e-22f7c7077bdf",
   "metadata": {},
   "outputs": [],
   "source": [
    "# Create and fit a Neural Network using 50% of the calibration samples"
   ]
  },
  {
   "cell_type": "code",
   "execution_count": null,
   "id": "c651f635-91a8-42f1-b1fd-e29d98903c3b",
   "metadata": {},
   "outputs": [],
   "source": [
    "# Predicting a Neural Network for each biome type with 95% prediction confidence interval"
   ]
  },
  {
   "cell_type": "code",
   "execution_count": null,
   "id": "a4620903-64cf-4ca5-9166-8e83b3ad0413",
   "metadata": {
    "tags": []
   },
   "outputs": [],
   "source": [
    "predictors = ['nn', 'rf']\n",
    "for biome in biomes:\n",
    "    valbiomeDictLAI[biome]['result_df_50'] = pd.DataFrame()\n",
    "    for predictor in predictors:\n",
    "        df = pd.DataFrame(data = {\n",
    "            'y_true': valbiomeDictLAI[biome]['y_test'],\n",
    "            'y_pred': valbiomeDictLAI[biome]['DF']['y_' + predictor],\n",
    "            'rmse': metrics.mean_squared_error(valbiomeDictLAI[i]['y_test'],valbiomeDictLAI[i]['DF']['y_' + predictor], squared=False),\n",
    "            'residual': valbiomeDictLAI[biome]['DF']['y_' + predictor] - valbiomeDictLAI[biome]['y_test'],\n",
    "            # 'sd': valbiomeDictLAI[biome]['DF']['stddev_' + predictor],\n",
    "            'pi_mag': valbiomeDictLAI[biome]['DF']['upper_50'] - valbiomeDictLAI[biome]['DF']['lower_50'],\n",
    "            'sample_size': 50,\n",
    "            'predictor': predictor\n",
    "        })\n",
    "        valbiomeDictLAI[biome]['result_df_50'] = pd.concat([valbiomeDictLAI[biome]['result_df_50'], df])"
   ]
  },
  {
   "cell_type": "code",
   "execution_count": null,
   "id": "5b49fa30-0566-4c0d-8da5-f1f89719cf52",
   "metadata": {
    "tags": []
   },
   "outputs": [],
   "source": [
    "# Plot the prediction confidence intervals magnitude versus the true value (maybe a kde plot) for 100% and 50%\n",
    "data = pd.concat([valbiomeDictLAI[biome]['result_df_50'].loc[valbiomeDictLAI[biome]['result_df_50']['predictor'] == 'rf'], valbiomeDictLAI[biome]['result_df_100'].loc[valbiomeDictLAI[biome]['result_df_50']['predictor'] == 'rf']])\n",
    "sns.kdeplot(data=data, x='y_true', y='pi_mag', hue='sample_size')"
   ]
  },
  {
   "cell_type": "code",
   "execution_count": null,
   "id": "27b3986f-6ea6-4877-aa9a-bbd450c795d2",
   "metadata": {
    "tags": []
   },
   "outputs": [],
   "source": [
    "sns.scatterplot(data=valbiomeDictLAI[biome]['result_df_50'].loc[valbiomeDictLAI[biome]['result_df_50']['predictor'] == 'rf'], x='y_true', y='pi_mag')"
   ]
  },
  {
   "cell_type": "code",
   "execution_count": null,
   "id": "b554ac14-403e-4983-ad6e-32f2ab9abf07",
   "metadata": {},
   "outputs": [],
   "source": []
  }
 ],
 "metadata": {
  "kernelspec": {
   "display_name": "Python 3 (ipykernel)",
   "language": "python",
   "name": "python3"
  },
  "language_info": {
   "codemirror_mode": {
    "name": "ipython",
    "version": 3
   },
   "file_extension": ".py",
   "mimetype": "text/x-python",
   "name": "python",
   "nbconvert_exporter": "python",
   "pygments_lexer": "ipython3",
   "version": "3.7.16"
  }
 },
 "nbformat": 4,
 "nbformat_minor": 5
}
